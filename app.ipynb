{
 "cells": [
  {
   "cell_type": "code",
   "execution_count": 1,
   "metadata": {},
   "outputs": [],
   "source": [
    "from main import *\n",
    "import ipywidgets as widgets\n",
    "from IPython.display import display, HTML, clear_output"
   ]
  },
  {
   "cell_type": "markdown",
   "metadata": {},
   "source": [
    "# THE DATA ENGINEERING PIPELINE"
   ]
  },
  {
   "cell_type": "code",
   "execution_count": 1,
   "metadata": {},
   "outputs": [
    {
     "data": {
      "text/html": [
       "<h2 style=\"font-weight: bold;\">Actualització de la Data Engineering Pipeline</h2>"
      ],
      "text/plain": [
       "<IPython.core.display.HTML object>"
      ]
     },
     "metadata": {},
     "output_type": "display_data"
    },
    {
     "data": {
      "application/vnd.jupyter.widget-view+json": {
       "model_id": "114a306a604e49699ffcf143b6daec29",
       "version_major": 2,
       "version_minor": 0
      },
      "text/plain": [
       "HBox(children=(VBox(children=(Label(value='', layout=Layout(padding='1px', width='auto')), Label(value='income…"
      ]
     },
     "metadata": {},
     "output_type": "display_data"
    },
    {
     "data": {
      "application/vnd.jupyter.widget-view+json": {
       "model_id": "4392deecb3404a82aba17d737ebc10e0",
       "version_major": 2,
       "version_minor": 0
      },
      "text/plain": [
       "Button(description='Activar Función', style=ButtonStyle())"
      ]
     },
     "metadata": {},
     "output_type": "display_data"
    }
   ],
   "source": [
    "import ipywidgets as widgets\n",
    "from IPython.display import display, HTML, clear_output\n",
    "\n",
    "# Función que se llamará cuando se presione el botón\n",
    "def button_clicked(b):\n",
    "\n",
    "    # Recopila el estado de cada checkbox individualmente\n",
    "    variables_vox = [checkbox.value for row in checkboxes for checkbox in row]\n",
    "    # Desempaqueta la lista de estados de los checkboxes como argumentos individuales a la función main\n",
    "    variables_vox.extend([exploitation_zone_column.children[1].value, exploitation_zone_column.children[2].value])\n",
    "    main(*variables_vox)\n",
    "\n",
    "# Crear los CheckBoxes para cada zona\n",
    "labels = ['income', 'sales', 'shop']\n",
    "checkboxes = [[widgets.Checkbox(value=False) for _ in range(4)] for _ in labels]\n",
    "\n",
    "# Configuración de los bordes\n",
    "box_layout = widgets.Layout(display='flex',\n",
    "                            flex_flow='column',\n",
    "                            align_items='stretch',\n",
    "                            width='40%')\n",
    "\n",
    "# Crear las columnas de widgets que incluyen los checkboxes\n",
    "data_source_column = widgets.VBox([widgets.Label('Data Source')] + [row[0] for row in checkboxes], layout=box_layout)\n",
    "landing_zone_column = widgets.VBox([widgets.Label('Landing Zone')] + [row[1] for row in checkboxes], layout=box_layout)\n",
    "trusted_zone_column = widgets.VBox([widgets.Label('Trusted Zone')] + [row[2] for row in checkboxes], layout=box_layout)\n",
    "\n",
    "# Solo dos checkboxes para la zona de exploración\n",
    "exploitation_zone_column = widgets.VBox([\n",
    "    widgets.Label('Exploitation Zone'),\n",
    "    widgets.Checkbox(value=False, description=\"mapa\"),\n",
    "    widgets.Checkbox(value=False, description=\"model_predictiu\")\n",
    "], layout=box_layout)\n",
    "\n",
    "# Juntar las columnas en una fila\n",
    "row_layout = widgets.HBox([data_source_column, landing_zone_column, trusted_zone_column, exploitation_zone_column])\n",
    "\n",
    "# Alineación de los labels con el ancho de las columnas\n",
    "label_layout = widgets.Layout(padding='1px', width='auto')\n",
    "\n",
    "# Crear los labels de las filas y ajustarlos a la izquierda de las columnas\n",
    "labels_column = widgets.VBox([widgets.Label(label, layout=label_layout) for label in [''] + labels])\n",
    "\n",
    "# Combinar los labels con las columnas\n",
    "final_layout = widgets.HBox([labels_column, row_layout])\n",
    "\n",
    "# Crear botón\n",
    "button = widgets.Button(description=\"Activar Función\")\n",
    "button.on_click(button_clicked)\n",
    "\n",
    "# Mostrar el título en negrita y más grande\n",
    "display(HTML('<h2 style=\"font-weight: bold;\">Actualització de la Data Engineering Pipeline</h2>'))\n",
    "\n",
    "# Mostrar la interfaz y el botón\n",
    "display(final_layout, button)\n"
   ]
  }
 ],
 "metadata": {
  "kernelspec": {
   "display_name": "Python 3",
   "language": "python",
   "name": "python3"
  },
  "language_info": {
   "codemirror_mode": {
    "name": "ipython",
    "version": 3
   },
   "file_extension": ".py",
   "mimetype": "text/x-python",
   "name": "python",
   "nbconvert_exporter": "python",
   "pygments_lexer": "ipython3",
   "version": "3.10.10"
  }
 },
 "nbformat": 4,
 "nbformat_minor": 2
}
