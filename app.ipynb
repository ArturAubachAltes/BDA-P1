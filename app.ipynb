{
 "cells": [
  {
   "cell_type": "code",
   "execution_count": 2,
   "metadata": {},
   "outputs": [],
   "source": [
    "from main import *\n",
    "import ipywidgets as widgets\n",
    "from IPython.display import display, HTML, clear_output"
   ]
  },
  {
   "cell_type": "markdown",
   "metadata": {},
   "source": [
    "# THE DATA ENGINEERING PIPELINE"
   ]
  },
  {
   "cell_type": "code",
   "execution_count": null,
   "metadata": {},
   "outputs": [],
   "source": [
    "import ipywidgets as widgets\n",
    "from IPython.display import display, HTML, clear_output\n",
    "\n",
    "# # Definición de la función main que acepta 14 argumentos\n",
    "# def main(data_source_income, landing_zone_income, trusted_zone_income, exploration_zone_income,\n",
    "#          data_source_sales, landing_zone_sales, trusted_zone_sales, exploration_zone_sales,\n",
    "#          data_source_shop, landing_zone_shop, trusted_zone_shop, exploration_zone_shop,\n",
    "#          mapa, model_predictiu):\n",
    "#     # Aquí puedes añadir el código que procese estas variables\n",
    "#     display('')\n",
    "#     print(\"Valores recibidos:\")\n",
    "#     print(f\"Income: Data Source={data_source_income}, Landing Zone={landing_zone_income}, Trusted Zone={trusted_zone_income}, Exploration Zone={exploration_zone_income}\")\n",
    "#     print(f\"Sales: Data Source={data_source_sales}, Landing Zone={landing_zone_sales}, Trusted Zone={trusted_zone_sales}, Exploration Zone={exploration_zone_sales}\")\n",
    "#     print(f\"Shop: Data Source={data_source_shop}, Landing Zone={landing_zone_shop}, Trusted Zone={trusted_zone_shop}, Exploration Zone={exploration_zone_shop}\")\n",
    "#     print(f\"Exploration Zone checkboxes: mapa={mapa}, model_predictiu={model_predictiu}\")\n",
    "\n",
    "# Función que se llamará cuando se presione el botón\n",
    "def button_clicked(b):\n",
    "\n",
    "    # Recopila el estado de cada checkbox individualmente\n",
    "    variables_vox = [checkbox.value for row in checkboxes for checkbox in row]\n",
    "    # Desempaqueta la lista de estados de los checkboxes como argumentos individuales a la función main\n",
    "    variables_vox.extend([exploration_zone_column.children[1].value, exploration_zone_column.children[2].value])\n",
    "    main(*variables_vox)\n",
    "\n",
    "# Crear los CheckBoxes para cada zona\n",
    "labels = ['income', 'sales', 'shop']\n",
    "checkboxes = [[widgets.Checkbox(value=False) for _ in range(4)] for _ in labels]\n",
    "\n",
    "# Configuración de los bordes\n",
    "box_layout = widgets.Layout(display='flex',\n",
    "                            flex_flow='column',\n",
    "                            align_items='stretch',\n",
    "                            width='40%')\n",
    "\n",
    "# Crear las columnas de widgets que incluyen los checkboxes\n",
    "data_source_column = widgets.VBox([widgets.Label('Data Source')] + [row[0] for row in checkboxes], layout=box_layout)\n",
    "landing_zone_column = widgets.VBox([widgets.Label('Landing Zone')] + [row[1] for row in checkboxes], layout=box_layout)\n",
    "trusted_zone_column = widgets.VBox([widgets.Label('Trusted Zone')] + [row[2] for row in checkboxes], layout=box_layout)\n",
    "\n",
    "# Solo dos checkboxes para la zona de exploración\n",
    "exploration_zone_column = widgets.VBox([\n",
    "    widgets.Label('Exploration Zone'),\n",
    "    widgets.Checkbox(value=False, description=\"mapa\"),\n",
    "    widgets.Checkbox(value=False, description=\"model_predictiu\")\n",
    "], layout=box_layout)\n",
    "\n",
    "# Juntar las columnas en una fila\n",
    "row_layout = widgets.HBox([data_source_column, landing_zone_column, trusted_zone_column, exploration_zone_column])\n",
    "\n",
    "# Alineación de los labels con el ancho de las columnas\n",
    "label_layout = widgets.Layout(padding='1px', width='auto')\n",
    "\n",
    "# Crear los labels de las filas y ajustarlos a la izquierda de las columnas\n",
    "labels_column = widgets.VBox([widgets.Label(label, layout=label_layout) for label in [''] + labels])\n",
    "\n",
    "# Combinar los labels con las columnas\n",
    "final_layout = widgets.HBox([labels_column, row_layout])\n",
    "\n",
    "# Crear botón\n",
    "button = widgets.Button(description=\"Activar Función\")\n",
    "button.on_click(button_clicked)\n",
    "\n",
    "# Mostrar el título en negrita y más grande\n",
    "display(HTML('<h2 style=\"font-weight: bold;\">Actualització de la Data Engineering Pipeline</h2>'))\n",
    "\n",
    "# Mostrar la interfaz y el botón\n",
    "display(final_layout, button)\n"
   ]
  },
  {
   "cell_type": "markdown",
   "metadata": {},
   "source": [
    "# MODELS"
   ]
  },
  {
   "cell_type": "markdown",
   "metadata": {},
   "source": [
    "## Mapa"
   ]
  },
  {
   "cell_type": "code",
   "execution_count": null,
   "metadata": {},
   "outputs": [],
   "source": [
    "print(\"ads\")"
   ]
  },
  {
   "cell_type": "markdown",
   "metadata": {},
   "source": [
    "## Model Predictiu"
   ]
  },
  {
   "cell_type": "code",
   "execution_count": null,
   "metadata": {},
   "outputs": [],
   "source": []
  },
  {
   "cell_type": "code",
   "execution_count": null,
   "metadata": {},
   "outputs": [],
   "source": []
  },
  {
   "cell_type": "code",
   "execution_count": null,
   "metadata": {},
   "outputs": [],
   "source": []
  }
 ],
 "metadata": {
  "kernelspec": {
   "display_name": "Python 3",
   "language": "python",
   "name": "python3"
  },
  "language_info": {
   "codemirror_mode": {
    "name": "ipython",
    "version": 3
   },
   "file_extension": ".py",
   "mimetype": "text/x-python",
   "name": "python",
   "nbconvert_exporter": "python",
   "pygments_lexer": "ipython3",
   "version": "3.10.12"
  }
 },
 "nbformat": 4,
 "nbformat_minor": 2
}
