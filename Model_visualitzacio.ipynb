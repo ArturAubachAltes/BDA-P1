{
 "cells": [
  {
   "cell_type": "markdown",
   "metadata": {},
   "source": [
    "# Visualitzar en un mapa el AVG income \n",
    "- zipcode\n",
    "- avg_income_per_zipcode\n",
    "- geometry_x\n",
    "- geometry_y"
   ]
  },
  {
   "cell_type": "code",
   "execution_count": null,
   "metadata": {},
   "outputs": [],
   "source": [
    "import pandas as pd\n",
    "#Agafar les dades del Explotation zone\n",
    "\n",
    "import pandas as pd\n",
    "import folium\n",
    "\n",
    "# Carga de datos\n",
    "data = pd.read_csv('tu_archivo.csv')  # Asegúrate de usar la ruta correcta al archivo\n",
    "\n",
    "# Crear un mapa centrado en una ubicación media\n",
    "mapa = folium.Map(location=[data['Latitud'].mean(), data['Longitud'].mean()], zoom_start=10)\n",
    "\n",
    "# Función para elegir colores basados en el ingreso promedio\n",
    "def color_producer(ingreso):\n",
    "    if ingreso < 50000:\n",
    "        return 'green'\n",
    "    elif 50000 <= ingreso < 100000:\n",
    "        return 'orange'\n",
    "    else:\n",
    "        return 'red'\n",
    "\n",
    "# Añadir puntos al mapa\n",
    "for _, row in data.iterrows():\n",
    "    folium.CircleMarker(\n",
    "        location=[row['Latitud'], row['Longitud']],\n",
    "        radius=10,  # Puedes ajustar el tamaño\n",
    "        fill=True,\n",
    "        color=color_producer(row['average_income']),\n",
    "        fill_color=color_producer(row['average_income']),\n",
    "        fill_opacity=0.7,\n",
    "        popup=f\"Zipcode: {row['zipcode']}<br>Ingreso promedio: ${row['average_income']:.2f}\"\n",
    "    ).add_to(mapa)\n",
    "\n",
    "# Guardar el mapa en un archivo HTML\n",
    "mapa.save('mapa_ingresos.html')\n"
   ]
  }
 ],
 "metadata": {
  "kernelspec": {
   "display_name": "Python 3",
   "language": "python",
   "name": "python3"
  },
  "language_info": {
   "codemirror_mode": {
    "name": "ipython",
    "version": 3
   },
   "file_extension": ".py",
   "mimetype": "text/x-python",
   "name": "python",
   "nbconvert_exporter": "python",
   "pygments_lexer": "ipython3",
   "version": "3.10.10"
  }
 },
 "nbformat": 4,
 "nbformat_minor": 2
}
