{
 "cells": [
  {
   "cell_type": "markdown",
   "metadata": {},
   "source": [
    "# Exploitation Zone - Visualització\n",
    "\n",
    "- exploitation zone de la visualització\n",
    "- preparation pipeline per taula d'entrenament del model --> cada zipcode és un indiv\n",
    "    - Shops: latitu, longitud\n",
    "    - Income: mitjana income per zipcode"
   ]
  },
  {
   "cell_type": "code",
   "execution_count": null,
   "metadata": {},
   "outputs": [],
   "source": []
  },
  {
   "cell_type": "code",
   "execution_count": 9,
   "metadata": {},
   "outputs": [
    {
     "name": "stderr",
     "output_type": "stream",
     "text": [
      "24/04/25 00:08:18 WARN Utils: Service 'SparkUI' could not bind on port 4040. Attempting port 4041.\n"
     ]
    }
   ],
   "source": [
    "from pyspark.sql import SparkSession\n",
    "\n",
    "spark = SparkSession.builder \\\n",
    "        .config(\"spark.jars\", \"./duckdb.jar\") \\\n",
    "        .appName(\"ExploitationZone\") \\\n",
    "        .getOrCreate()\n",
    "\n"
   ]
  },
  {
   "cell_type": "code",
   "execution_count": 2,
   "metadata": {},
   "outputs": [],
   "source": [
    "############\n",
    "## INCOME ##\n",
    "############\n",
    "\n",
    "income = spark.read \\\n",
    "    .format(\"jdbc\") \\\n",
    "    .option(\"url\", \"jdbc:duckdb:trusted_zone.duckdb\") \\\n",
    "    .option(\"dbtable\", \"cleaned_income\") \\\n",
    "    .option(\"driver\", \"org.duckdb.DuckDBDriver\") \\\n",
    "    .load()\n",
    "\n",
    "income_selected = income.select(\"ZIPCODE\", \"Total_income_amount\")"
   ]
  },
  {
   "cell_type": "code",
   "execution_count": 3,
   "metadata": {},
   "outputs": [],
   "source": [
    "###########\n",
    "## SHOPS ##\n",
    "###########\n",
    "shops = spark.read \\\n",
    "    .format(\"jdbc\") \\\n",
    "    .option(\"url\", \"jdbc:duckdb:trusted_zone.duckdb\") \\\n",
    "    .option(\"dbtable\", \"cleaned_shops\") \\\n",
    "    .option(\"driver\", \"org.duckdb.DuckDBDriver\") \\\n",
    "    .load()\n",
    "\n",
    "shops_selected = shops.select(\"ZIPCODE\", \"latitude\", \"longitude\")"
   ]
  },
  {
   "cell_type": "code",
   "execution_count": 4,
   "metadata": {},
   "outputs": [
    {
     "name": "stderr",
     "output_type": "stream",
     "text": [
      "                                                                                \r"
     ]
    },
    {
     "name": "stdout",
     "output_type": "stream",
     "text": [
      "+-------+----------------------+\n",
      "|zipcode|avg_income_per_zipcode|\n",
      "+-------+----------------------+\n",
      "|  35004|                258024|\n",
      "|  35005|                129390|\n",
      "|  35006|                 58585|\n",
      "|  35007|                651350|\n",
      "|  35010|                382106|\n",
      "|  35014|                 67885|\n",
      "|  35016|                333226|\n",
      "|  35019|                 35392|\n",
      "|  35020|                262475|\n",
      "|  35022|                521539|\n",
      "|  35023|                480458|\n",
      "|  35031|                112152|\n",
      "|  35033|                 67437|\n",
      "|  35034|                 52030|\n",
      "|  35035|                 31542|\n",
      "|  35040|                359868|\n",
      "|  35042|                 96503|\n",
      "|  35043|                363943|\n",
      "|  35044|                124406|\n",
      "|  35045|                236772|\n",
      "+-------+----------------------+\n",
      "only showing top 20 rows\n",
      "\n"
     ]
    }
   ],
   "source": [
    "from pyspark.sql.functions import col\n",
    "\n",
    "# taula a partir de income\n",
    "df_model = income_selected\n",
    "\n",
    "# renombrem columnes\n",
    "df_model = df_model.withColumnRenamed(\"Total_income_amount\", \"avg_income_per_zipcode\")\n",
    "\n",
    "\n",
    "\n",
    "df_model.show()"
   ]
  },
  {
   "cell_type": "code",
   "execution_count": 5,
   "metadata": {},
   "outputs": [
    {
     "name": "stderr",
     "output_type": "stream",
     "text": [
      "                                                                                \r"
     ]
    },
    {
     "name": "stdout",
     "output_type": "stream",
     "text": [
      "+-------+----------------------+------------------+-------------------+\n",
      "|zipcode|avg_income_per_zipcode|          latitude|          longitude|\n",
      "+-------+----------------------+------------------+-------------------+\n",
      "|  96815|                993218|21.270510000000005|-157.80038400000004|\n",
      "|  96815|                993218|21.284324499999986|        -157.814114|\n",
      "|  96815|                993218| 21.28381529999999|        -157.814795|\n",
      "|  96815|                993218| 21.28075830052637| -157.8279499995846|\n",
      "|  96815|                993218|21.280566799999995|       -157.8281395|\n",
      "|  96815|                993218| 21.27874419999999|        -157.813419|\n",
      "|  96815|                993218| 21.27798179999999|       -157.8137586|\n",
      "|  96815|                993218|21.276678100695744| -157.8146362996257|\n",
      "|  96815|                993218|        21.2758429|         -157.81457|\n",
      "|  96815|                993218|  21.2753013000051| -157.8175495998725|\n",
      "|  96815|                993218|21.276000599999985|       -157.8233806|\n",
      "|  96815|                993218|21.275510399999998|        -157.822742|\n",
      "|  96815|                993218|21.280187100021294|-157.82642439972076|\n",
      "|  96815|                993218|21.279521800722936|-157.82581200022526|\n",
      "|  96815|                993218| 21.27958420002163|-157.82588199964715|\n",
      "|  96815|                993218|21.279589200669925|-157.82588849985655|\n",
      "|  96815|                993218| 21.27924629999999|       -157.8257664|\n",
      "|  96815|                993218|21.279206400302286|-157.82572319996282|\n",
      "|  96815|                993218|21.279448700302144|-157.82599640009857|\n",
      "|  96815|                993218| 21.27932240000001|        -157.826129|\n",
      "+-------+----------------------+------------------+-------------------+\n",
      "only showing top 20 rows\n",
      "\n"
     ]
    }
   ],
   "source": [
    "joined_data = df_model.join(shops_selected, (df_model[\"ZIPCODE\"] == shops_selected[\"ZIPCODE\"]), \"inner\")\n",
    "selected_columns = [df_model[col] for col in df_model.columns] + [shops_selected[col] for col in shops_selected.columns if col not in [\"ZIPCODE\"]]\n",
    "joined_data = joined_data.select(selected_columns)\n",
    "joined_data.show()"
   ]
  },
  {
   "cell_type": "code",
   "execution_count": 6,
   "metadata": {},
   "outputs": [
    {
     "name": "stderr",
     "output_type": "stream",
     "text": [
      "                                                                                \r"
     ]
    }
   ],
   "source": [
    "joined_data.write \\\n",
    "    .format(\"jdbc\") \\\n",
    "    .option(\"url\", \"jdbc:duckdb:exploitation_zone.duckdb\") \\\n",
    "    .option(\"dbtable\", \"mapa_visualitzacio\") \\\n",
    "    .option(\"driver\", \"org.duckdb.DuckDBDriver\") \\\n",
    "    .mode(\"overwrite\") \\\n",
    "    .save()\n",
    "        "
   ]
  },
  {
   "cell_type": "code",
   "execution_count": null,
   "metadata": {},
   "outputs": [],
   "source": []
  }
 ],
 "metadata": {
  "kernelspec": {
   "display_name": "Python 3",
   "language": "python",
   "name": "python3"
  },
  "language_info": {
   "codemirror_mode": {
    "name": "ipython",
    "version": 3
   },
   "file_extension": ".py",
   "mimetype": "text/x-python",
   "name": "python",
   "nbconvert_exporter": "python",
   "pygments_lexer": "ipython3",
   "version": "3.10.12"
  }
 },
 "nbformat": 4,
 "nbformat_minor": 2
}
