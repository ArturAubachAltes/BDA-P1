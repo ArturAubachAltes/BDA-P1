{
 "cells": [
  {
   "cell_type": "code",
   "execution_count": 1,
   "metadata": {},
   "outputs": [],
   "source": [
    "from DataFormatting import *"
   ]
  },
  {
   "cell_type": "code",
   "execution_count": 3,
   "metadata": {},
   "outputs": [
    {
     "name": "stdout",
     "output_type": "stream",
     "text": [
      "+-------------------+------------------+--------------------+-------------------------+---------------------------+----------------------+--------------------+---------------------+------------------------+------------------------+-----------------------+------------------------+---------------------------+--------------------+------------------+----------------+-------------------+--------------------+-------------------+---------------+--------------------+------------------+\n",
      "|attributes.objectid|attributes.osm_id2|attributes.abandoned|attributes.addr_housename|attributes.addr_housenumber|attributes.addr_street|attributes.addr_city|attributes.addr_state|attributes.addr_postcode|attributes.addr_province|attributes.addr_country|attributes.addr_district|attributes.addr_subdistrict|attributes.addr_unit|attributes.amenity|attributes.brand|attributes.building|     attributes.name|attributes.operator|attributes.shop|          geometry.x|        geometry.y|\n",
      "+-------------------+------------------+--------------------+-------------------------+---------------------------+----------------------+--------------------+---------------------+------------------------+------------------------+-----------------------+------------------------+---------------------------+--------------------+------------------+----------------+-------------------+--------------------+-------------------+---------------+--------------------+------------------+\n",
      "|                 85|        6448753092|                NULL|                     NULL|                       NULL|                  NULL|                NULL|                 NULL|                    NULL|                    NULL|                   NULL|                    NULL|                       NULL|                NULL|              NULL|            NULL|               NULL|Jo Jo’s Clubhouse...|               NULL|  confectionery| -1.77743974774402E7|2506253.3864803435|\n",
      "|                 95|        6241439285|                NULL|                     NULL|                       9652|     Kaumualii Highway|                NULL|                 NULL|                    NULL|                    NULL|                   NULL|                    NULL|                       NULL|                NULL|              NULL|            NULL|               NULL|  The Shrimp Station|               NULL|        seafood|    -1.77741766752E7| 2506160.271499999|\n",
      "|                 98|        4643342514|                NULL|                     NULL|                       NULL|                  NULL|                NULL|                 NULL|                    NULL|                    NULL|                   NULL|                    NULL|                       NULL|                NULL|              NULL|            NULL|               NULL|Big Save Super Ma...|               NULL|    supermarket|    -1.77741212047E7| 2506174.398400001|\n",
      "|                105|        5857253155|                NULL|                     NULL|                       NULL|                  NULL|                NULL|                 NULL|                    NULL|                    NULL|                   NULL|                    NULL|                       NULL|                NULL|              NULL|            NULL|               NULL|                NULL|               NULL|        laundry|    -1.77748829195E7| 2506481.507199999|\n",
      "|                107|        5541678538|                NULL|                     NULL|                       NULL|                  NULL|                NULL|                 NULL|                    NULL|                    NULL|                   NULL|                    NULL|                       NULL|                NULL|              NULL|            NULL|               NULL|            Red Dirt|               NULL|        clothes|-1.77744238156317...|2506268.5216149013|\n",
      "|                367|        5616118025|                NULL|                     NULL|                       NULL|     Ala Kalanikaumaka|                NULL|                 NULL|                    NULL|                    NULL|                   NULL|                    NULL|                       NULL|                NULL|              NULL|            NULL|               NULL|     Maile Tropicals|               NULL|      cosmetics|-1.77520631363077...|2497546.0188859263|\n",
      "|                384|        3688705947|                NULL|                     NULL|                       NULL|                  NULL|                NULL|                 NULL|                    NULL|                    NULL|                   NULL|                    NULL|                       NULL|                NULL|              NULL|            NULL|               NULL|Whalers General S...|               NULL|    convenience|-1.77508611752378...|2496994.0270445766|\n",
      "|                399|        6326437795|                NULL|                     NULL|                       NULL|                  NULL|                NULL|                 NULL|                    NULL|                    NULL|                   NULL|                    NULL|                       NULL|                NULL|              NULL|            NULL|               NULL|                NULL|               NULL|        clothes|    -1.77508989237E7|      2497066.9628|\n",
      "|                400|        6326437794|                NULL|                     NULL|                       NULL|                  NULL|                NULL|                 NULL|                    NULL|                    NULL|                   NULL|                    NULL|                       NULL|                NULL|              NULL|            NULL|               NULL|                NULL|               NULL|        clothes|    -1.77509022076E7| 2497085.772599999|\n",
      "|                408|        6326437793|                NULL|                     NULL|                       NULL|                  NULL|                NULL|                 NULL|                    NULL|                    NULL|                   NULL|                    NULL|                       NULL|                NULL|              NULL|            NULL|               NULL|                NULL|               NULL|            art|    -1.77508822035E7|2497080.6983000003|\n",
      "|                500|        3227039056|                NULL|                     NULL|                       NULL|                  NULL|                NULL|                 NULL|                    NULL|                    NULL|                   NULL|                    NULL|                       NULL|                NULL|              NULL|            NULL|               NULL|Captain Andy's Sa...|               NULL|        outdoor|    -1.77651583493E7| 2499680.833299998|\n",
      "|                501|        4430499572|                NULL|                     NULL|                       NULL|                  NULL|                NULL|                 NULL|                    NULL|                    NULL|                   NULL|                    NULL|                       NULL|                NULL|              NULL|            NULL|               NULL|Kauai Chocolate C...|               NULL|      chocolate|    -1.77651339592E7| 2499720.282299999|\n",
      "|                504|        5541678621|                NULL|                     NULL|                       NULL|                  NULL|                NULL|                 NULL|                    NULL|                    NULL|                   NULL|                    NULL|                       NULL|                NULL|              NULL|            NULL|               NULL|                NULL|               NULL|         tattoo|    -1.77651315881E7| 2499767.925999999|\n",
      "|                508|        5541678480|                NULL|                     NULL|                       NULL|                  NULL|                NULL|                 NULL|                    NULL|                    NULL|                   NULL|                    NULL|                       NULL|                NULL|              NULL|            NULL|               NULL|            Big Save|               NULL|    supermarket|     -1.7764975162E7|2500063.0535000004|\n",
      "|                511|        5541678476|                NULL|                     NULL|                       NULL|                  NULL|                NULL|                 NULL|                    NULL|                    NULL|                   NULL|                    NULL|                       NULL|                NULL|              NULL|            NULL|               NULL|    Eleele Landromat|               NULL|        laundry|    -1.77649891103E7|2500140.7415999994|\n",
      "|                528|        3227039266|                NULL|                     NULL|                       NULL|                  NULL|                NULL|                 NULL|                    NULL|                    NULL|                   NULL|                    NULL|                       NULL|                NULL|              NULL|            NULL|               NULL|Talk Story Bookstore|               NULL|          books|-1.776527338688436E7|2500876.4380595586|\n",
      "|                545|        4893331220|                NULL|                     NULL|                       NULL|                  NULL|            Hanapepe|                   HI|                   96716|                    NULL|                   NULL|                    NULL|                       NULL|                NULL|              NULL|            NULL|               NULL|             Blü Umi|               NULL|       boutique|-1.77650994056522...|2500889.6126388544|\n",
      "|                630|        5541678622|                NULL|                     NULL|                       NULL|                  NULL|                NULL|                 NULL|                    NULL|                    NULL|                   NULL|                    NULL|                       NULL|                NULL|              NULL|            NULL|               NULL|     The Right Slice|               NULL|         bakery|    -1.77584438916E7|2502595.6744999997|\n",
      "|                754|        2900135101|                NULL|                     NULL|                       NULL|                  NULL|                NULL|                 NULL|                    NULL|                    NULL|                   NULL|                    NULL|                       NULL|                NULL|              NULL|            NULL|               NULL| Living Foods Market|               NULL|    supermarket|-1.775208322947586E7|2497669.9657790065|\n",
      "|                777|        4763053325|                NULL|                     NULL|                       NULL|                  NULL|                NULL|                 NULL|                    NULL|                    NULL|                   NULL|                    NULL|                       NULL|                NULL|              NULL|            NULL|               NULL|         Boss Frog's|               NULL|        outdoor|    -1.77517186247E7|2499825.2041999996|\n",
      "+-------------------+------------------+--------------------+-------------------------+---------------------------+----------------------+--------------------+---------------------+------------------------+------------------------+-----------------------+------------------------+---------------------------+--------------------+------------------+----------------+-------------------+--------------------+-------------------+---------------+--------------------+------------------+\n",
      "only showing top 20 rows\n",
      "\n",
      "Database sales actualitzada\n"
     ]
    }
   ],
   "source": [
    "a = formating(False, True, False)"
   ]
  },
  {
   "cell_type": "code",
   "execution_count": null,
   "metadata": {},
   "outputs": [],
   "source": []
  },
  {
   "cell_type": "code",
   "execution_count": null,
   "metadata": {},
   "outputs": [],
   "source": [
    "def warmup():\n",
    "    winesRDD = sc.textFile(\"wines.10m.txt\")\n",
    "    print(\"The file has \" + str(winesRDD.count()) + \" lines\")\n",
    "    print(\"##########################\")\n",
    "    print(\"The first five lines have the following content:\\n\")\n",
    "    for line in winesRDD.take(5):\n",
    "        print(line)\n",
    "    print(\"##########################\")\n",
    "\n",
    "    fourthAtribute = winesRDD.map(lambda f: f.split(\n",
    "        \",\")[3]).sortBy(lambda f: f, True, 2)\n",
    "    print(\"For the fourth attribute the minimum value is {}\".format(\n",
    "        fourthAtribute.first()))\n",
    "    print(\"##########################\")\n",
    "    type_1 = winesRDD.filter(lambda f: \"type_1\" in f)\n",
    "    print(\"{} elements are of type 1\".format(type_1.count()))\n",
    "    print(\"##########################\")\n",
    "\n",
    "\n",
    "warmup()"
   ]
  },
  {
   "cell_type": "code",
   "execution_count": null,
   "metadata": {},
   "outputs": [],
   "source": []
  }
 ],
 "metadata": {
  "kernelspec": {
   "display_name": "Python 3",
   "language": "python",
   "name": "python3"
  },
  "language_info": {
   "codemirror_mode": {
    "name": "ipython",
    "version": 3
   },
   "file_extension": ".py",
   "mimetype": "text/x-python",
   "name": "python",
   "nbconvert_exporter": "python",
   "pygments_lexer": "ipython3",
   "version": "3.12.0"
  }
 },
 "nbformat": 4,
 "nbformat_minor": 2
}
