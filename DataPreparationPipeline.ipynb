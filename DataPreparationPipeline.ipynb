{
 "cells": [
  {
   "cell_type": "code",
   "execution_count": 1,
   "metadata": {},
   "outputs": [],
   "source": [
    "# quality pipeline de les tres taules en duckdb\n",
    "from pyspark.sql import SparkSession\n",
    "from pyspark.sql.functions import col\n",
    "\n"
   ]
  },
  {
   "cell_type": "code",
   "execution_count": 22,
   "metadata": {},
   "outputs": [],
   "source": [
    "# Crear una sesión Spark\n",
    "spark = SparkSession.builder \\\n",
    "    .config(\"spark.jars\", \"./duckdb.jar\") \\\n",
    "    .appName(\"FormattedZone\") \\\n",
    "    .getOrCreate()\n",
    "\n",
    "# Cargar la tabla 'income_data'\n",
    "income_df = spark.read \\\n",
    "    .format(\"jdbc\") \\\n",
    "    .option(\"url\", \"jdbc:duckdb:trusted_zone.duckdb\") \\\n",
    "    .option(\"dbtable\", \"cleaned_income\") \\\n",
    "    .option(\"driver\", \"org.duckdb.DuckDBDriver\") \\\n",
    "    .load()\n",
    "\n",
    "# Cargar la tabla 'shops_data'\n",
    "shops_df = spark.read \\\n",
    "    .format(\"jdbc\") \\\n",
    "    .option(\"url\", \"jdbc:duckdb:trusted_zone.duckdb\") \\\n",
    "    .option(\"dbtable\", \"cleaned_shops\") \\\n",
    "    .option(\"driver\", \"org.duckdb.DuckDBDriver\") \\\n",
    "    .load()\n"
   ]
  },
  {
   "cell_type": "code",
   "execution_count": 24,
   "metadata": {},
   "outputs": [
    {
     "name": "stdout",
     "output_type": "stream",
     "text": [
      "+--------------------+------------------+--------------------+--------------------+----------+--------+\n",
      "|          geometry_x|        geometry_y|                shop|                name|     index|postcode|\n",
      "+--------------------+------------------+--------------------+--------------------+----------+--------+\n",
      "| -1.77743974774402E7|2506253.3864803435|       confectionery|Jo Jo’s Clubhouse...|6448753092|    NULL|\n",
      "|    -1.77741766752E7| 2506160.271499999|             seafood|  The Shrimp Station|6241439285|    NULL|\n",
      "|    -1.77741212047E7| 2506174.398400001|         supermarket|Big Save Super Ma...|4643342514|    NULL|\n",
      "|-1.77744238156317...|2506268.5216149013|             clothes|            Red Dirt|5541678538|    NULL|\n",
      "|-1.77520631363077...|2497546.0188859263|           cosmetics|     Maile Tropicals|5616118025|    NULL|\n",
      "|-1.77508611752378...|2496994.0270445766|         convenience|Whalers General S...|3688705947|    NULL|\n",
      "|    -1.77651583493E7| 2499680.833299998|             outdoor|Captain Andy's Sa...|3227039056|    NULL|\n",
      "|    -1.77651339592E7| 2499720.282299999|           chocolate|Kauai Chocolate C...|4430499572|    NULL|\n",
      "|     -1.7764975162E7|2500063.0535000004|         supermarket|            Big Save|5541678480|    NULL|\n",
      "|    -1.77649891103E7|2500140.7415999994|             laundry|    Eleele Landromat|5541678476|    NULL|\n",
      "|-1.776527338688436E7|2500876.4380595586|               books|Talk Story Bookstore|3227039266|    NULL|\n",
      "|-1.77650994056522...|2500889.6126388544|            boutique|             Blü Umi|4893331220|   96716|\n",
      "|    -1.77584438916E7|2502595.6744999997|              bakery|     The Right Slice|5541678622|    NULL|\n",
      "|-1.775208322947586E7|2497669.9657790065|         supermarket| Living Foods Market|2900135101|    NULL|\n",
      "|    -1.77517186247E7|2499825.2041999996|             outdoor|         Boss Frog's|4763053325|    NULL|\n",
      "|-1.774329176155851E7|2508065.9893738925|             alcohol|Koloa Rum Tasting...|4423245790|   96766|\n",
      "|-1.774273874859215E7|  2507792.43796664|         supermarket|             Safeway|4894818972|   96766|\n",
      "|-1.77420737259541...|2507856.7771893516|         supermarket|  Times Supermarkets|2910438233|    NULL|\n",
      "|-1.77420336509374...| 2507948.364971854|nutrition_supplem...|       Vitamin World|2910438235|    NULL|\n",
      "|-1.77420967690887...|  2508010.77218441|             jewelry|        Kay Jewelers|3742107744|    NULL|\n",
      "+--------------------+------------------+--------------------+--------------------+----------+--------+\n",
      "only showing top 20 rows\n",
      "\n"
     ]
    }
   ],
   "source": [
    "shops_df.show()"
   ]
  },
  {
   "cell_type": "code",
   "execution_count": 3,
   "metadata": {},
   "outputs": [
    {
     "name": "stdout",
     "output_type": "stream",
     "text": [
      "root\n",
      " |-- STATE: string (nullable = true)\n",
      " |-- ZIPCODE: decimal(20,0) (nullable = true)\n",
      " |-- Number of returns: decimal(20,0) (nullable = true)\n",
      " |-- Adjusted gross income (AGI): decimal(20,0) (nullable = true)\n",
      " |-- Avg AGI: double (nullable = true)\n",
      " |-- Number of returns with total income: decimal(20,0) (nullable = true)\n",
      " |-- Total income amount: decimal(20,0) (nullable = true)\n",
      " |-- Avg total income: double (nullable = true)\n",
      " |-- Number of returns with taxable income: decimal(20,0) (nullable = true)\n",
      " |-- Taxable income amount: decimal(20,0) (nullable = true)\n",
      " |-- Avg taxable income: double (nullable = true)\n",
      "\n",
      "root\n",
      " |-- attributes.objectid: decimal(20,0) (nullable = true)\n",
      " |-- attributes.osm_id2: string (nullable = true)\n",
      " |-- attributes.abandoned: double (nullable = true)\n",
      " |-- attributes.addr_housename: string (nullable = true)\n",
      " |-- attributes.addr_housenumber: string (nullable = true)\n",
      " |-- attributes.addr_street: string (nullable = true)\n",
      " |-- attributes.addr_city: string (nullable = true)\n",
      " |-- attributes.addr_state: string (nullable = true)\n",
      " |-- attributes.addr_postcode: string (nullable = true)\n",
      " |-- attributes.addr_province: double (nullable = true)\n",
      " |-- attributes.addr_country: string (nullable = true)\n",
      " |-- attributes.addr_district: double (nullable = true)\n",
      " |-- attributes.addr_subdistrict: double (nullable = true)\n",
      " |-- attributes.addr_unit: string (nullable = true)\n",
      " |-- attributes.amenity: string (nullable = true)\n",
      " |-- attributes.brand: string (nullable = true)\n",
      " |-- attributes.building: string (nullable = true)\n",
      " |-- attributes.name: string (nullable = true)\n",
      " |-- attributes.operator: string (nullable = true)\n",
      " |-- attributes.shop: string (nullable = true)\n",
      " |-- geometry.x: double (nullable = true)\n",
      " |-- geometry.y: double (nullable = true)\n",
      "\n"
     ]
    }
   ],
   "source": [
    "# Mostrar el esquema de 'income_df'\n",
    "income_df.printSchema()\n",
    "\n",
    "# Mostrar el esquema de 'shops_df'\n",
    "shops_df.printSchema()\n"
   ]
  },
  {
   "cell_type": "code",
   "execution_count": 5,
   "metadata": {},
   "outputs": [
    {
     "ename": "NameError",
     "evalue": "name 'ZIPCODE' is not defined",
     "output_type": "error",
     "traceback": [
      "\u001b[0;31m---------------------------------------------------------------------------\u001b[0m",
      "\u001b[0;31mNameError\u001b[0m                                 Traceback (most recent call last)",
      "\u001b[0;32m/tmp/ipykernel_341797/11322657.py\u001b[0m in \u001b[0;36m<module>\u001b[0;34m\u001b[0m\n\u001b[0;32m----> 1\u001b[0;31m \u001b[0mZIPCODE\u001b[0m\u001b[0;34m\u001b[0m\u001b[0;34m\u001b[0m\u001b[0m\n\u001b[0m\u001b[1;32m      2\u001b[0m \u001b[0;34m\u001b[0m\u001b[0m\n\u001b[1;32m      3\u001b[0m \u001b[0maddr_postcode\u001b[0m\u001b[0;34m\u001b[0m\u001b[0;34m\u001b[0m\u001b[0m\n",
      "\u001b[0;31mNameError\u001b[0m: name 'ZIPCODE' is not defined"
     ]
    }
   ],
   "source": [
    "ZIPCODE\n",
    "\n",
    "\n",
    "addr_postcode\n"
   ]
  },
  {
   "cell_type": "code",
   "execution_count": null,
   "metadata": {},
   "outputs": [],
   "source": []
  }
 ],
 "metadata": {
  "kernelspec": {
   "display_name": "Python 3",
   "language": "python",
   "name": "python3"
  },
  "language_info": {
   "codemirror_mode": {
    "name": "ipython",
    "version": 3
   },
   "file_extension": ".py",
   "mimetype": "text/x-python",
   "name": "python",
   "nbconvert_exporter": "python",
   "pygments_lexer": "ipython3",
   "version": "3.10.12"
  }
 },
 "nbformat": 4,
 "nbformat_minor": 2
}
